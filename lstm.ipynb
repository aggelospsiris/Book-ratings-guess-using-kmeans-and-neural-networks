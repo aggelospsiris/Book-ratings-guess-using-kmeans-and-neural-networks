{
  "nbformat": 4,
  "nbformat_minor": 0,
  "metadata": {
    "colab": {
      "provenance": [],
      "authorship_tag": "ABX9TyOJBzgpBc8UfbEo/aUO/kDZ",
      "include_colab_link": true
    },
    "kernelspec": {
      "name": "python3",
      "display_name": "Python 3"
    },
    "language_info": {
      "name": "python"
    },
    "gpuClass": "standard"
  },
  "cells": [
    {
      "cell_type": "markdown",
      "metadata": {
        "id": "view-in-github",
        "colab_type": "text"
      },
      "source": [
        "<a href=\"https://colab.research.google.com/github/aggelospsiris/Book-ratings-guess-using-kmeans-and-neural-networks/blob/main/lstm.ipynb\" target=\"_parent\"><img src=\"https://colab.research.google.com/assets/colab-badge.svg\" alt=\"Open In Colab\"/></a>"
      ]
    },
    {
      "cell_type": "code",
      "execution_count": 26,
      "metadata": {
        "colab": {
          "base_uri": "https://localhost:8080/"
        },
        "id": "oHnlxnZf-MCB",
        "outputId": "64d549b9-8df9-49e5-8d1b-c23fa8d82c75"
      },
      "outputs": [
        {
          "output_type": "stream",
          "name": "stdout",
          "text": [
            "Drive already mounted at /drive; to attempt to forcibly remount, call drive.mount(\"/drive\", force_remount=True).\n"
          ]
        }
      ],
      "source": [
        "from google.colab import drive \n",
        "drive.mount('/drive')\n",
        "import tensorflow as tf\n",
        "from tensorflow import keras\n",
        "from sklearn.model_selection import train_test_split\n",
        "import pandas as pd\n",
        "from sklearn.preprocessing import StandardScaler\n",
        "from tensorflow.keras.utils import to_categorical\n",
        "from keras.callbacks import EarlyStopping\n",
        "from keras.regularizers import l2"
      ]
    },
    {
      "cell_type": "markdown",
      "source": [
        "Data preparation"
      ],
      "metadata": {
        "id": "uiD-zVd-un4k"
      }
    },
    {
      "cell_type": "code",
      "source": [
        "df=pd.read_csv('/drive/My Drive/Colab Notebooks/info_retrival/train_after_pca_titles_summaries.csv')\n",
        "#drop unusuful column\n",
        "df = df.drop(columns = ['Unnamed: 0'])\n",
        "array = df.to_numpy()\n",
        "# Split into input and output\n",
        "X = array[:,1 :-1]\n",
        "Y = array[:, -1]\n",
        "# Features normalization\n",
        "Y = to_categorical(Y)\n",
        "\n",
        "x_train, x_test, y_train, y_test = train_test_split(X, Y, test_size=0.2, random_state=42,shuffle=True,stratify=Y)\n",
        "x_train, x_val, y_train, y_val = train_test_split(x_train, y_train, test_size=0.2,shuffle=True,stratify=y_train)"
      ],
      "metadata": {
        "id": "U-6E4V9BGPS1"
      },
      "execution_count": 3,
      "outputs": []
    },
    {
      "cell_type": "code",
      "source": [
        "#the x train data contains the cluster,the summaries and the titles\n",
        "X.shape"
      ],
      "metadata": {
        "colab": {
          "base_uri": "https://localhost:8080/"
        },
        "id": "lktstAGmN23Z",
        "outputId": "d2337699-9efd-4ab7-f58b-2f7ad3bea70f"
      },
      "execution_count": 4,
      "outputs": [
        {
          "output_type": "execute_result",
          "data": {
            "text/plain": [
              "(22470, 4)"
            ]
          },
          "metadata": {},
          "execution_count": 4
        }
      ]
    },
    {
      "cell_type": "code",
      "source": [
        "#the target data contains the ratings(0-10) into a categorical format\n",
        "Y.shape"
      ],
      "metadata": {
        "colab": {
          "base_uri": "https://localhost:8080/"
        },
        "id": "VBkU0Db1VM3b",
        "outputId": "4335d95f-d082-4260-8a8c-0b5f99282350"
      },
      "execution_count": 5,
      "outputs": [
        {
          "output_type": "execute_result",
          "data": {
            "text/plain": [
              "(22470, 11)"
            ]
          },
          "metadata": {},
          "execution_count": 5
        }
      ]
    },
    {
      "cell_type": "markdown",
      "source": [
        "Built and compile lstm model"
      ],
      "metadata": {
        "id": "6MLr6JrqQOMh"
      }
    },
    {
      "cell_type": "code",
      "source": [
        "model = tf.keras.Sequential()\n",
        "model.add(tf.keras.layers.InputLayer(input_shape=(X.shape[1],1)))\n",
        "model.add(tf.keras.layers.Bidirectional(tf.keras.layers.LSTM(128,activation='relu', return_sequences=True,kernel_regularizer=l2(0.01), recurrent_regularizer=l2(0.01), bias_regularizer=l2(0.01))))\n",
        "model.add(tf.keras.layers.Dropout(0.5))\n",
        "model.add(tf.keras.layers.Bidirectional(tf.keras.layers.LSTM(64,activation='relu',kernel_regularizer=l2(0.01), recurrent_regularizer=l2(0.01), bias_regularizer=l2(0.01))))\n",
        "model.add(tf.keras.layers.Dense(units=Y.shape[1], activation='softmax'))\n",
        "\n",
        "model.compile(\n",
        "      loss=tf.keras.losses.CategoricalCrossentropy(),\n",
        "      optimizer=tf.keras.optimizers.Adam(learning_rate=0.001),\n",
        "      metrics=['accuracy'])\n",
        "\n",
        "callback = EarlyStopping(monitor=\"val_loss\", mode=\"max\", min_delta=0, patience=20, verbose=0)"
      ],
      "metadata": {
        "id": "fV85p1Pi-ek5"
      },
      "execution_count": 31,
      "outputs": []
    },
    {
      "cell_type": "markdown",
      "source": [
        "From the following results i see that the accuracy is stack  on local maximum.The ways i tried to fix this problem is :\n",
        "\n",
        "\n",
        " *  Use statify in train_test_split()  \n",
        " *  Use different optimizer with different lr and momentum\n",
        " *  Change the structure of my model into more complex one in a case i have the underfitting problem\n",
        " *  Expirements with adding or removeing dropout\n",
        " * Change the batch size\n",
        " * Use weight decay \n",
        "\n",
        " Non of them work so the problem that the any model can capture the sequence of the data cause they are unpredictable.\n",
        "\n",
        "\n",
        "\n",
        "\n",
        "\n",
        "\n"
      ],
      "metadata": {
        "id": "qX12-55-Qjw_"
      }
    },
    {
      "cell_type": "code",
      "source": [
        "model.fit(x_train, y_train, batch_size=128, callbacks=[callback],epochs=200, validation_data=(x_val, y_val))"
      ],
      "metadata": {
        "colab": {
          "base_uri": "https://localhost:8080/"
        },
        "id": "y5BncuR1Kwyy",
        "outputId": "6ca049fe-a6db-4f6b-c49e-f15e0ec9fce9"
      },
      "execution_count": 32,
      "outputs": [
        {
          "output_type": "stream",
          "name": "stdout",
          "text": [
            "Epoch 1/200\n",
            "113/113 [==============================] - 11s 57ms/step - loss: 7.9178 - accuracy: 0.3927 - val_loss: 5.0997 - val_accuracy: 0.3954\n",
            "Epoch 2/200\n",
            "113/113 [==============================] - 6s 50ms/step - loss: 4.6109 - accuracy: 0.3953 - val_loss: 4.2294 - val_accuracy: 0.3954\n",
            "Epoch 3/200\n",
            "113/113 [==============================] - 6s 50ms/step - loss: 3.9385 - accuracy: 0.3953 - val_loss: 3.6590 - val_accuracy: 0.3954\n",
            "Epoch 4/200\n",
            "113/113 [==============================] - 6s 50ms/step - loss: 3.4293 - accuracy: 0.3953 - val_loss: 3.2060 - val_accuracy: 0.3954\n",
            "Epoch 5/200\n",
            "113/113 [==============================] - 6s 50ms/step - loss: 3.0227 - accuracy: 0.3953 - val_loss: 2.8443 - val_accuracy: 0.3954\n",
            "Epoch 6/200\n",
            "113/113 [==============================] - 6s 50ms/step - loss: 2.7012 - accuracy: 0.3953 - val_loss: 2.5628 - val_accuracy: 0.3954\n",
            "Epoch 7/200\n",
            "113/113 [==============================] - 6s 50ms/step - loss: 2.4531 - accuracy: 0.3953 - val_loss: 2.3466 - val_accuracy: 0.3954\n",
            "Epoch 8/200\n",
            "113/113 [==============================] - 6s 50ms/step - loss: 2.2651 - accuracy: 0.3953 - val_loss: 2.1854 - val_accuracy: 0.3954\n",
            "Epoch 9/200\n",
            "113/113 [==============================] - 6s 50ms/step - loss: 2.1254 - accuracy: 0.3953 - val_loss: 2.0669 - val_accuracy: 0.3954\n",
            "Epoch 10/200\n",
            "113/113 [==============================] - 6s 50ms/step - loss: 2.0247 - accuracy: 0.3953 - val_loss: 1.9831 - val_accuracy: 0.3954\n",
            "Epoch 11/200\n",
            "113/113 [==============================] - 6s 50ms/step - loss: 1.9541 - accuracy: 0.3953 - val_loss: 1.9249 - val_accuracy: 0.3954\n",
            "Epoch 12/200\n",
            "113/113 [==============================] - 6s 50ms/step - loss: 1.9061 - accuracy: 0.3953 - val_loss: 1.8856 - val_accuracy: 0.3954\n",
            "Epoch 13/200\n",
            "113/113 [==============================] - 6s 50ms/step - loss: 1.8741 - accuracy: 0.3953 - val_loss: 1.8604 - val_accuracy: 0.3954\n",
            "Epoch 14/200\n",
            "113/113 [==============================] - 7s 59ms/step - loss: 1.8539 - accuracy: 0.3953 - val_loss: 1.8444 - val_accuracy: 0.3954\n",
            "Epoch 15/200\n",
            "113/113 [==============================] - 9s 78ms/step - loss: 1.8410 - accuracy: 0.3953 - val_loss: 1.8350 - val_accuracy: 0.3954\n",
            "Epoch 16/200\n",
            "113/113 [==============================] - 6s 51ms/step - loss: 1.8335 - accuracy: 0.3953 - val_loss: 1.8290 - val_accuracy: 0.3954\n",
            "Epoch 17/200\n",
            "113/113 [==============================] - 6s 51ms/step - loss: 1.8288 - accuracy: 0.3953 - val_loss: 1.8267 - val_accuracy: 0.3954\n",
            "Epoch 18/200\n",
            "113/113 [==============================] - 6s 52ms/step - loss: 1.8265 - accuracy: 0.3953 - val_loss: 1.8242 - val_accuracy: 0.3954\n",
            "Epoch 19/200\n",
            "113/113 [==============================] - 6s 50ms/step - loss: 1.8246 - accuracy: 0.3953 - val_loss: 1.8273 - val_accuracy: 0.3954\n",
            "Epoch 20/200\n",
            "113/113 [==============================] - 6s 51ms/step - loss: 1.8244 - accuracy: 0.3953 - val_loss: 1.8218 - val_accuracy: 0.3954\n",
            "Epoch 21/200\n",
            "113/113 [==============================] - 6s 51ms/step - loss: 1.8231 - accuracy: 0.3953 - val_loss: 1.8225 - val_accuracy: 0.3954\n"
          ]
        },
        {
          "output_type": "execute_result",
          "data": {
            "text/plain": [
              "<keras.callbacks.History at 0x7fde706843a0>"
            ]
          },
          "metadata": {},
          "execution_count": 32
        }
      ]
    },
    {
      "cell_type": "code",
      "source": [
        "metrics = model.evaluate(x_test,y_test,verbose=1)"
      ],
      "metadata": {
        "colab": {
          "base_uri": "https://localhost:8080/"
        },
        "id": "ZSpcSk9ZMLBk",
        "outputId": "0cd514d8-032f-4678-ecb7-595e537337e8"
      },
      "execution_count": 22,
      "outputs": [
        {
          "output_type": "stream",
          "name": "stdout",
          "text": [
            "141/141 [==============================] - 1s 9ms/step - loss: 1.8053 - accuracy: 0.3954\n"
          ]
        }
      ]
    }
  ]
}