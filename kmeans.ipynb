{
  "cells": [
    {
      "cell_type": "markdown",
      "metadata": {
        "id": "view-in-github",
        "colab_type": "text"
      },
      "source": [
        "<a href=\"https://colab.research.google.com/github/aggelospsiris/Book-ratings-guess-using-kmeans-and-neural-networks/blob/main/kmeans.ipynb\" target=\"_parent\"><img src=\"https://colab.research.google.com/assets/colab-badge.svg\" alt=\"Open In Colab\"/></a>"
      ]
    },
    {
      "cell_type": "code",
      "source": [
        "gpu_info = !nvidia-smi\n",
        "gpu_info = '\\n'.join(gpu_info)\n",
        "if gpu_info.find('failed') >= 0:\n",
        "  print('Not connected to a GPU')\n",
        "else:\n",
        "  print(gpu_info)"
      ],
      "metadata": {
        "colab": {
          "base_uri": "https://localhost:8080/"
        },
        "id": "xrCFJ_LVH1jW",
        "outputId": "241a1e71-83e3-46ac-aa5c-202cbfefaf3b"
      },
      "execution_count": 1,
      "outputs": [
        {
          "output_type": "stream",
          "name": "stdout",
          "text": [
            "Fri Jan 27 17:33:47 2023       \n",
            "+-----------------------------------------------------------------------------+\n",
            "| NVIDIA-SMI 510.47.03    Driver Version: 510.47.03    CUDA Version: 11.6     |\n",
            "|-------------------------------+----------------------+----------------------+\n",
            "| GPU  Name        Persistence-M| Bus-Id        Disp.A | Volatile Uncorr. ECC |\n",
            "| Fan  Temp  Perf  Pwr:Usage/Cap|         Memory-Usage | GPU-Util  Compute M. |\n",
            "|                               |                      |               MIG M. |\n",
            "|===============================+======================+======================|\n",
            "|   0  Tesla T4            Off  | 00000000:00:04.0 Off |                    0 |\n",
            "| N/A   67C    P0    30W /  70W |      0MiB / 15360MiB |      0%      Default |\n",
            "|                               |                      |                  N/A |\n",
            "+-------------------------------+----------------------+----------------------+\n",
            "                                                                               \n",
            "+-----------------------------------------------------------------------------+\n",
            "| Processes:                                                                  |\n",
            "|  GPU   GI   CI        PID   Type   Process name                  GPU Memory |\n",
            "|        ID   ID                                                   Usage      |\n",
            "|=============================================================================|\n",
            "|  No running processes found                                                 |\n",
            "+-----------------------------------------------------------------------------+\n"
          ]
        }
      ]
    },
    {
      "cell_type": "code",
      "execution_count": 2,
      "metadata": {
        "colab": {
          "base_uri": "https://localhost:8080/"
        },
        "id": "dEc2F-CV49Or",
        "outputId": "cb1f8eb2-5256-4d63-bce0-f3a2bd74e6b5"
      },
      "outputs": [
        {
          "output_type": "stream",
          "name": "stderr",
          "text": [
            "[nltk_data] Downloading package punkt to /root/nltk_data...\n",
            "[nltk_data]   Package punkt is already up-to-date!\n"
          ]
        },
        {
          "output_type": "stream",
          "name": "stdout",
          "text": [
            "Drive already mounted at /drive; to attempt to forcibly remount, call drive.mount(\"/drive\", force_remount=True).\n"
          ]
        }
      ],
      "source": [
        "from sklearn.cluster import KMeans\n",
        "import pandas as pd\n",
        "from sklearn.preprocessing import MinMaxScaler\n",
        "from matplotlib import pyplot as plt\n",
        "%matplotlib inline\n",
        "import array\n",
        "from nltk.tokenize import word_tokenize\n",
        "import nltk\n",
        "nltk.download('punkt')\n",
        "import re\n",
        "import numpy as np\n",
        "from google.colab import drive\n",
        "drive.mount('/drive')\n"
      ]
    },
    {
      "cell_type": "code",
      "execution_count": 3,
      "metadata": {
        "id": "MWJGrIgW6cay"
      },
      "outputs": [],
      "source": [
        "df = pd.read_csv(\"/drive/My Drive/Colab Notebooks/info_retrival/infoRetrival_dataset/BX-Users.csv\")"
      ]
    },
    {
      "cell_type": "markdown",
      "source": [
        "**Dataframe preprocessing**"
      ],
      "metadata": {
        "id": "QgOK0yj1s0gB"
      }
    },
    {
      "cell_type": "code",
      "execution_count": 4,
      "metadata": {
        "id": "4bkAl-us64lG"
      },
      "outputs": [],
      "source": [
        "#remove the columns that has nan vals\n",
        "df = df.dropna()"
      ]
    },
    {
      "cell_type": "code",
      "execution_count": 5,
      "metadata": {
        "id": "vet3tCcK7CAZ"
      },
      "outputs": [],
      "source": [
        "#remove the age less than 5 andd more than 100\n",
        "\n",
        "df = df.drop(df[df['age'] >= 105].index)\n",
        "df = df.drop(df[df['age'] <= 5].index)\n"
      ]
    },
    {
      "cell_type": "markdown",
      "source": [
        "**Locations preprocessing**"
      ],
      "metadata": {
        "id": "DSy6C_WBBrz8"
      }
    },
    {
      "cell_type": "code",
      "execution_count": 6,
      "metadata": {
        "colab": {
          "base_uri": "https://localhost:8080/"
        },
        "id": "CcttdEjn7HP5",
        "outputId": "b53a9906-6e7c-409f-e3f4-235d163b5cb7"
      },
      "outputs": [
        {
          "output_type": "stream",
          "name": "stdout",
          "text": [
            "[['stockton', 'california', 'usa'], ['porto', 'vngaia', 'portugal'], ['santamonica', 'california', 'usa'], ['melbourne', 'victoria', 'australia'], ['barcelona', 'barcelona', 'spain']]\n"
          ]
        },
        {
          "output_type": "execute_result",
          "data": {
            "text/plain": [
              "[' stockton california usa',\n",
              " ' porto vngaia portugal',\n",
              " ' santamonica california usa',\n",
              " ' melbourne victoria australia',\n",
              " ' barcelona barcelona spain']"
            ]
          },
          "metadata": {},
          "execution_count": 6
        }
      ],
      "source": [
        "locations_processed = []\n",
        "location_processed = []\n",
        "#for every location\n",
        "for l in df.location:\n",
        "  #split the location into words\n",
        "  l = l.split(\",\")\n",
        "  #for every word\n",
        "  for word in l:\n",
        "    #remove spaces\n",
        "    word_striped = word.strip()\n",
        "    #remove punktuation\n",
        "    word_without_panktuation = re.sub(r'[^\\w\\s]', '', word_striped)\n",
        "    #if the word has length less than 2 remove it\n",
        "    if(len(word_without_panktuation)<2):\n",
        "      word_with_more_than_one_char = ''\n",
        "    else:\n",
        "      word_with_more_than_one_char = word_without_panktuation\n",
        "    #if the word is na remove it\n",
        "    if(word_with_more_than_one_char != 'na' ):\n",
        "      #if the word is space remove it\n",
        "      if(word_with_more_than_one_char != '' ):\n",
        "        #i remove all the spaces betwwen words so the built of the vectorizer will be easier\n",
        "        location_processed.append(word_with_more_than_one_char.replace(\" \", \"\"))\n",
        "  #location_processed = ' '.join(s for s in location_processed)\n",
        "  locations_processed.append(location_processed)\n",
        "  location_processed= []\n",
        "#convert every location into text again to feed it into the vectorizer\n",
        "string_location = ''\n",
        "string_locations = []\n",
        "print(locations_processed[0:5])\n",
        "for location in locations_processed:\n",
        "  for word in location:\n",
        "    string_location = string_location + \" \" + word\n",
        "  string_locations.append(string_location)\n",
        "  string_location = ''\n",
        "string_locations[0:5]"
      ]
    },
    {
      "cell_type": "markdown",
      "source": [
        "The best way to convert the locations into vectors would be to retrieve the cordinates of each location from openstreetmap because this way the can be represented in the 2d space like \"[lat,lan]\" and take the max perfomance(speed cause the input vectors would be only 3d and accuracy) from the k-means.Although because this proccess needs a lot of running time cause the data are a lot we need to parallize the code which is not the goal of this project so i wont follow this way.The block of code is an example of how we can retrive the coordinates.\n"
      ],
      "metadata": {
        "id": "puW8O4wuq6F_"
      }
    },
    {
      "cell_type": "code",
      "source": [
        "\"\"\"\n",
        "import requests\n",
        "import urllib.parse \n",
        "locations_processed = []\n",
        "location_processed = []\n",
        "#for every location\n",
        "for l in df.location:\n",
        "  #split the location into words\n",
        "  l = l.split(\",\")\n",
        "  #for every word\n",
        "  for word in l:\n",
        "    #remove spaces\n",
        "    word_striped = word.strip()\n",
        "    #remove punktuation\n",
        "    word_without_panktuation = re.sub(r'[^\\w\\s]', '', word_striped)\n",
        "    #if the word has length less than 2 remove it\n",
        "    if(len(word_without_panktuation)<2):\n",
        "      word_with_more_than_one_char = ''\n",
        "    else:\n",
        "      word_with_more_than_one_char = word_without_panktuation\n",
        "    #if the word is na remove it\n",
        "    if(word_with_more_than_one_char != 'na' ):\n",
        "      #if the word is space remove it\n",
        "      if(word_with_more_than_one_char != '' ):\n",
        "        location_processed.append(word_with_more_than_one_char)\n",
        "  #location_processed = ' '.join(s for s in location_processed)\n",
        "  locations_processed.append(location_processed)\n",
        "  location_processed= []\n",
        "\n",
        "#print(locations_processed[0:5])\n",
        "#get the cordinates of each location using request from openstreetmap\n",
        "lat = []\n",
        "lon = []\n",
        "i = 0\n",
        "for location in locations_processed:\n",
        "  #The max len of a location is 3 althouth i put 4 to be sure\n",
        "  if len(location) == 1:\n",
        "    address = location[0]\n",
        "  elif len(location) == 2:\n",
        "    address = location[0] + ',' + location[1]\n",
        "  elif len(location) == 3:\n",
        "    address = location[0] + ',' + location[1] + ',' + location[2]\n",
        "  elif len(location) == 4:\n",
        "    address = location[0] + ',' + location[1] + location[2] + ',' + location[3]\n",
        "  url = 'https://nominatim.openstreetmap.org/search/' + urllib.parse.quote(address) +'?format=json'\n",
        "  response = requests.get(url).json()\n",
        "  try:\n",
        "    lat.append(float(response[0][\"lat\"]))\n",
        "    lon.append(float(response[0][\"lon\"]))\n",
        "  except:\n",
        "    lat.append(float(\"nan\"))\n",
        "    lon.append(float(\"nan\"))\n",
        "  i = i + 1\n",
        "  print(i)\n",
        "\n",
        "df['lat'] = lat\n",
        "df['lon'] = lon\n",
        "df = df.dropna()\n",
        "df = df.drop(columns=['location'])\n",
        "\n",
        "\"\"\""
      ],
      "metadata": {
        "id": "tIf70-Sqq7fv",
        "outputId": "3523548f-fec9-4e79-82fc-7e740698feb1",
        "colab": {
          "base_uri": "https://localhost:8080/",
          "height": 218
        }
      },
      "execution_count": 7,
      "outputs": [
        {
          "output_type": "execute_result",
          "data": {
            "text/plain": [
              "'\\nimport requests\\nimport urllib.parse \\nlocations_processed = []\\nlocation_processed = []\\n#for every location\\nfor l in df.location:\\n  #split the location into words\\n  l = l.split(\",\")\\n  #for every word\\n  for word in l:\\n    #remove spaces\\n    word_striped = word.strip()\\n    #remove punktuation\\n    word_without_panktuation = re.sub(r\\'[^\\\\w\\\\s]\\', \\'\\', word_striped)\\n    #if the word has length less than 2 remove it\\n    if(len(word_without_panktuation)<2):\\n      word_with_more_than_one_char = \\'\\'\\n    else:\\n      word_with_more_than_one_char = word_without_panktuation\\n    #if the word is na remove it\\n    if(word_with_more_than_one_char != \\'na\\' ):\\n      #if the word is space remove it\\n      if(word_with_more_than_one_char != \\'\\' ):\\n        location_processed.append(word_with_more_than_one_char)\\n  #location_processed = \\' \\'.join(s for s in location_processed)\\n  locations_processed.append(location_processed)\\n  location_processed= []\\n\\n#print(locations_processed[0:5])\\n#get the cordinates of each location using request from openstreetmap\\nlat = []\\nlon = []\\ni = 0\\nfor location in locations_processed:\\n  #The max len of a location is 3 althouth i put 4 to be sure\\n  if len(location) == 1:\\n    address = location[0]\\n  elif len(location) == 2:\\n    address = location[0] + \\',\\' + location[1]\\n  elif len(location) == 3:\\n    address = location[0] + \\',\\' + location[1] + \\',\\' + location[2]\\n  elif len(location) == 4:\\n    address = location[0] + \\',\\' + location[1] + location[2] + \\',\\' + location[3]\\n  url = \\'https://nominatim.openstreetmap.org/search/\\' + urllib.parse.quote(address) +\\'?format=json\\'\\n  response = requests.get(url).json()\\n  try:\\n    lat.append(float(response[0][\"lat\"]))\\n    lon.append(float(response[0][\"lon\"]))\\n  except:\\n    lat.append(float(\"nan\"))\\n    lon.append(float(\"nan\"))\\n  i = i + 1\\n  print(i)\\n\\ndf[\\'lat\\'] = lat\\ndf[\\'lon\\'] = lon\\ndf = df.dropna()\\ndf = df.drop(columns=[\\'location\\'])\\n\\n'"
            ],
            "application/vnd.google.colaboratory.intrinsic+json": {
              "type": "string"
            }
          },
          "metadata": {},
          "execution_count": 7
        }
      ]
    },
    {
      "cell_type": "markdown",
      "source": [
        "**Locations vectorization**"
      ],
      "metadata": {
        "id": "c9ruCbTMslrv"
      }
    },
    {
      "cell_type": "markdown",
      "source": [
        "To convert the locations into vectors i ll use sklearn Count Vectorizer that gives us a sparse vector with the size of the vocablary of all the locatios with 1s only in the words  that the location has"
      ],
      "metadata": {
        "id": "Nka60DGVrEV2"
      }
    },
    {
      "cell_type": "code",
      "execution_count": 8,
      "metadata": {
        "id": "lmoe7YkGGNkb"
      },
      "outputs": [],
      "source": [
        "from pandas.util.version import Version\n",
        "from sklearn.feature_extraction.text import CountVectorizer\n",
        "vectorizer = CountVectorizer()\n",
        "X = vectorizer.fit_transform(string_locations)"
      ]
    },
    {
      "cell_type": "markdown",
      "source": [
        "**Dimensions reduction**\n",
        "\n",
        "I want the kmeans algorithm to give the same weight to age and location so i am reducing the dimensions of the locartion vectors into 1d so the will be the same dimension as the age.For this i tried to use pca,though pca isnt effiecient on sparce matrixes,so i ll use LSA(https://stackoverflow.com/questions/33603787/performing-pca-on-large-sparse-matrix-by-using-sklearn)."
      ],
      "metadata": {
        "id": "rt5zeV9TsS6x"
      }
    },
    {
      "cell_type": "code",
      "source": [
        "from sklearn.decomposition import TruncatedSVD\n",
        "from scipy import sparse as sp\n",
        "\n",
        "clf = TruncatedSVD(1)\n",
        "Xpca = clf.fit_transform(X)\n",
        "Xpca.shape"
      ],
      "metadata": {
        "colab": {
          "base_uri": "https://localhost:8080/"
        },
        "id": "qzUEjPFAJKB3",
        "outputId": "9ea40766-4e0d-4d24-cfb7-5fe307682dce"
      },
      "execution_count": 10,
      "outputs": [
        {
          "output_type": "execute_result",
          "data": {
            "text/plain": [
              "(122160, 1)"
            ]
          },
          "metadata": {},
          "execution_count": 10
        }
      ]
    },
    {
      "cell_type": "markdown",
      "source": [
        "**Dataframe after the vectorization of the locations**"
      ],
      "metadata": {
        "id": "620RnVymsaca"
      }
    },
    {
      "cell_type": "code",
      "source": [
        "#New dataframe after locations processing and vectoring\n",
        "df[\"Vectorized Locartion\"] = Xpca\n",
        "df = df.dropna()\n",
        "df = df.drop(columns=['location'])\n",
        "print(df)\n",
        "# input matrix for segmentation\n",
        "x = df[['age','Vectorized Locartion']].to_numpy()"
      ],
      "metadata": {
        "colab": {
          "base_uri": "https://localhost:8080/"
        },
        "id": "6CVkzbRUKvG5",
        "outputId": "8c2add21-fccb-4757-e3ee-5c22de47e646"
      },
      "execution_count": 11,
      "outputs": [
        {
          "output_type": "stream",
          "name": "stdout",
          "text": [
            "           uid   age  Vectorized Locartion\n",
            "1            2  18.0              1.104872\n",
            "3            4  17.0              0.000022\n",
            "5            6  61.0              1.104935\n",
            "7           11  14.0              0.000996\n",
            "9           13  26.0              0.000297\n",
            "...        ...   ...                   ...\n",
            "206433  278840  45.0              1.104481\n",
            "206439  278849  23.0              0.001133\n",
            "206441  278852  32.0              0.000098\n",
            "206442  278853  17.0              0.000150\n",
            "206443  278855  50.0              0.044407\n",
            "\n",
            "[122160 rows x 3 columns]\n"
          ]
        }
      ]
    },
    {
      "cell_type": "markdown",
      "source": [
        "**Data normalization**"
      ],
      "metadata": {
        "id": "kSM8_GdlsLqW"
      }
    },
    {
      "cell_type": "code",
      "source": [
        "#normalization\n",
        "from sklearn import preprocessing\n",
        "max_abs_scaler = preprocessing.MaxAbsScaler()\n",
        "data_maxabs = max_abs_scaler.fit_transform(x)\n",
        "data_maxabs"
      ],
      "metadata": {
        "colab": {
          "base_uri": "https://localhost:8080/"
        },
        "id": "m_-Ub3AqL68o",
        "outputId": "cc6ba563-1a2f-42ab-f0c7-9cf9743be919"
      },
      "execution_count": 12,
      "outputs": [
        {
          "output_type": "execute_result",
          "data": {
            "text/plain": [
              "array([[1.73076923e-01, 5.30845703e-01],\n",
              "       [1.63461538e-01, 1.07339108e-05],\n",
              "       [5.86538462e-01, 5.30875999e-01],\n",
              "       ...,\n",
              "       [3.07692308e-01, 4.71019614e-05],\n",
              "       [1.63461538e-01, 7.18775300e-05],\n",
              "       [4.80769231e-01, 2.13358087e-02]])"
            ]
          },
          "metadata": {},
          "execution_count": 12
        }
      ]
    },
    {
      "cell_type": "markdown",
      "source": [
        "**Kmeans**"
      ],
      "metadata": {
        "id": "N5dn4lDiMPOs"
      }
    },
    {
      "cell_type": "code",
      "source": [
        "from sklearn.cluster import KMeans\n",
        "import matplotlib.pyplot as plt\n",
        "import seaborn as sns\n",
        "from mpl_toolkits.mplot3d import Axes3D\n",
        "import plotly.graph_objs as go\n",
        "from plotly import tools\n",
        "from plotly.subplots import make_subplots\n",
        "import plotly.offline as py"
      ],
      "metadata": {
        "id": "DItGBoMaMDUB"
      },
      "execution_count": 13,
      "outputs": []
    },
    {
      "cell_type": "markdown",
      "source": [
        "Elbow method"
      ],
      "metadata": {
        "id": "0ZDXHmwAOpgp"
      }
    },
    {
      "cell_type": "code",
      "source": [
        "#elbow method\n",
        "#find the optimal number of clusters using elbow method  -- >This is for 2 features = ['location','age']\n",
        "WCSS = []\n",
        "for i in range(1,11):\n",
        "    model = KMeans(n_clusters = i,init = 'k-means++')\n",
        "    model.fit(data_maxabs)\n",
        "    WCSS.append(model.inertia_)\n",
        "fig = plt.figure(figsize = (7,7))\n",
        "plt.plot(range(1,11),WCSS, linewidth=4, markersize=12,marker='o',color = 'red')\n",
        "plt.xticks(np.arange(11))\n",
        "plt.xlabel(\"Number of clusters\")\n",
        "plt.ylabel(\"WCSS\")\n",
        "plt.show()"
      ],
      "metadata": {
        "colab": {
          "base_uri": "https://localhost:8080/",
          "height": 442
        },
        "id": "ZTtwpH6bMHxz",
        "outputId": "40a44fd9-04ae-4ff8-d5b3-1d168e06b38e"
      },
      "execution_count": 14,
      "outputs": [
        {
          "output_type": "display_data",
          "data": {
            "text/plain": [
              "<Figure size 504x504 with 1 Axes>"
            ],
            "image/png": "[encoded data removed]"
          },
          "metadata": {
            "needs_background": "light"
          }
        }
      ]
    },
    {
      "cell_type": "code",
      "source": [
        "model = KMeans(n_clusters = 2, init = \"k-means++\", max_iter = 500, n_init = 10, random_state = 0)\n",
        "y_clusters = model.fit_predict(data_maxabs)"
      ],
      "metadata": {
        "id": "Yoy1JDx1NNpF"
      },
      "execution_count": 20,
      "outputs": []
    },
    {
      "cell_type": "markdown",
      "source": [
        "Visualization"
      ],
      "metadata": {
        "id": "G85AOlMKOysl"
      }
    },
    {
      "cell_type": "code",
      "source": [
        "plt.figure(figsize = (20,10))\n",
        "plt.scatter(x[y_clusters == 0,0],x[y_clusters == 0,1],s = 50, c = 'green')\n",
        "plt.scatter(x[y_clusters == 1,0],x[y_clusters == 1,1],s = 50, c = 'blue')\n",
        "plt.scatter(model.cluster_centers_[:,0],model.cluster_centers_[:,1], s = 100, c = \"black\", label = \"centroids\")\n",
        "plt.xlabel(\"Age\")\n",
        "plt.ylabel(\"Location\")\n",
        "plt.legend()\n",
        "plt.show()"
      ],
      "metadata": {
        "colab": {
          "base_uri": "https://localhost:8080/",
          "height": 395
        },
        "id": "DOd7lZMXOnTu",
        "outputId": "423e6f3e-ec77-4333-84a5-32eefb16802b"
      },
      "execution_count": 21,
      "outputs": [
        {
          "output_type": "display_data",
          "data": {
            "text/plain": [
              "<Figure size 1440x720 with 1 Axes>"
            ],
            "image/png": "[encoded data removed]"
          },
          "metadata": {
            "needs_background": "light"
          }
        }
      ]
    },
    {
      "cell_type": "markdown",
      "source": [
        "**Append the cluster column into users inforamtion**"
      ],
      "metadata": {
        "id": "AvTv5r1OtmPf"
      }
    },
    {
      "cell_type": "code",
      "execution_count": 22,
      "metadata": {
        "id": "Shf57gzesEdU"
      },
      "outputs": [],
      "source": [
        "######add the cluster attribute to the initial dataframe################\n",
        "df_users = pd.read_csv(\"/drive/My Drive/Colab Notebooks/info_retrival/infoRetrival_dataset/BX-Users.csv\")\n",
        "#remove the columns that has nan vals\n",
        "df_users = df_users.dropna()\n",
        "#and\n",
        "#remove the age less than 5 andd more than 100\n",
        "df_users = df_users.drop(df_users[df_users['age'] >= 105].index)\n",
        "df_users = df_users.drop(df_users[df_users['age'] <= 5].index)\n",
        "df_users = df_users.dropna()\n",
        "df_users['cluster'] = y_clusters\n",
        "df_users = df_users.drop(columns=['location'])"
      ]
    },
    {
      "cell_type": "markdown",
      "source": [
        "**A function that gets a users id and a books id checks if the user has rated this book and if not it returns the avarage rating that other users that are in the same cluster has puted to this book**"
      ],
      "metadata": {
        "id": "dt1RQ7lCuAbb"
      }
    },
    {
      "cell_type": "code",
      "execution_count": null,
      "metadata": {
        "id": "tCKATGc4-VS4",
        "colab": {
          "base_uri": "https://localhost:8080/"
        },
        "outputId": "0e587ff2-0bdd-4e43-e261-82139051387d"
      },
      "outputs": [
        {
          "output_type": "stream",
          "name": "stderr",
          "text": [
            "/usr/local/lib/python3.7/dist-packages/IPython/core/interactiveshell.py:3326: FutureWarning:\n",
            "\n",
            "The error_bad_lines argument has been deprecated and will be removed in a future version.\n",
            "\n",
            "\n",
            "\n"
          ]
        }
      ],
      "source": [
        "df_ratings = pd.read_csv(\"/content/sample_data/BX-Book-Ratings.csv\")\n",
        "df_books = pd.read_csv(\"/content/sample_data/BX-Books.csv\",error_bad_lines=False, engine=\"python\")\n",
        "df_ratings = df_ratings.dropna()\n",
        "df_books = df_books.dropna()\n",
        "df_missing_ratings = pd.DataFrame(columns=['uid','isbn','rating'])\n",
        "def avg_rating(uid,isbn):\n",
        "  #get the cluster that contains the user\n",
        "  cluster = df_users['cluster'].loc[df_users['uid'] == uid].values[0]\n",
        "  #get all the users that are contained in this cluster\n",
        "  users = df_users.loc[df_users['cluster'] == cluster, ['uid']]\n",
        "  rating = 0\n",
        "  counter = 0\n",
        "  for user in users['uid']:\n",
        "     if ((df_ratings['isbn'] == isbn) & (df_ratings['uid'] == user)).any():\n",
        "        counter = counter + 1\n",
        "        rating = rating + df_ratings.loc[(df_ratings['isbn'] == isbn) & (df_ratings['uid'] == user), ['rating']].values[0]\n",
        "  try: \n",
        "    rating = rating/counter\n",
        "  except ZeroDivisionError:\n",
        "    pass\n",
        "  counter = 0\n",
        "  return rating"
      ]
    },
    {
      "cell_type": "markdown",
      "source": [
        "**Fill the missing ratings**"
      ],
      "metadata": {
        "id": "wZHsSYLEvUgq"
      }
    },
    {
      "cell_type": "code",
      "execution_count": null,
      "metadata": {
        "id": "lthwuprqtLeR"
      },
      "outputs": [],
      "source": [
        " #for every user\n",
        "for user in df_users['uid']:\n",
        "  #for every book\n",
        "  for book in df_books['isbn']:\n",
        "    #if there isnt any rating \n",
        "    if ((df_ratings['uid'] == user) & (df_ratings['isbn'] == book)).any() == False:\n",
        "      df_missing_ratings.append({'uid':user,\"isbn\":book,\"rating\":avg_rating(user,book)},ignore_index=True)\n"
      ]
    },
    {
      "cell_type": "markdown",
      "source": [
        "**Built of the csv for extraction**"
      ],
      "metadata": {
        "id": "UI56fNUHvhr1"
      }
    },
    {
      "cell_type": "code",
      "source": [
        "#to the ratings add cluster column\n",
        "df_ratings2 = pd.merge(df_users, df_ratings, on=\"uid\")\n",
        "#to the ratings add informations about the book from the bx-books csv\n",
        "df_ratings3 = pd.merge(df_ratings2,df_books,on='isbn')"
      ],
      "metadata": {
        "id": "gUhPTD1WqZaw"
      },
      "execution_count": null,
      "outputs": []
    },
    {
      "cell_type": "markdown",
      "source": [
        "**Extract csv into the drive**"
      ],
      "metadata": {
        "id": "ChXYzFIjvlg2"
      }
    },
    {
      "cell_type": "code",
      "source": [
        "from google.colab import drive\n",
        "drive.mount('/drive')\n",
        "df_ratings3.to_csv('/drive/My Drive/Colab Notebooks/info_retrival/rating_with_clusters2.csv')\n",
        "\n"
      ],
      "metadata": {
        "id": "X3nY02sBVHIB",
        "colab": {
          "base_uri": "https://localhost:8080/"
        },
        "outputId": "ce9f21c9-34da-44a4-a0de-1ddca5569cf3"
      },
      "execution_count": null,
      "outputs": [
        {
          "output_type": "stream",
          "name": "stdout",
          "text": [
            "Mounted at /drive\n"
          ]
        }
      ]
    }
  ],
  "metadata": {
    "colab": {
      "provenance": [],
      "authorship_tag": "ABX9TyOjfBeCHf7+/chJsassJOOe",
      "include_colab_link": true
    },
    "kernelspec": {
      "display_name": "Python 3",
      "name": "python3"
    },
    "language_info": {
      "name": "python"
    },
    "gpuClass": "premium",
    "accelerator": "GPU"
  },
  "nbformat": 4,
  "nbformat_minor": 0
}