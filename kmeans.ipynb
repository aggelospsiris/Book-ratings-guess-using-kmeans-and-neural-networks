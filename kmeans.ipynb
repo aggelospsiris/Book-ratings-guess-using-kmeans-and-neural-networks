{
  "cells": [
    {
      "cell_type": "markdown",
      "metadata": {
        "id": "view-in-github",
        "colab_type": "text"
      },
      "source": [
        "<a href=\"https://colab.research.google.com/github/aggelospsiris/Book-ratings-guess-using-kmeans-and-neural-networks/blob/main/kmeans.ipynb\" target=\"_parent\"><img src=\"https://colab.research.google.com/assets/colab-badge.svg\" alt=\"Open In Colab\"/></a>"
      ]
    },
    {
      "cell_type": "code",
      "source": [
        "gpu_info = !nvidia-smi\n",
        "gpu_info = '\\n'.join(gpu_info)\n",
        "if gpu_info.find('failed') >= 0:\n",
        "  print('Not connected to a GPU')\n",
        "else:\n",
        "  print(gpu_info)"
      ],
      "metadata": {
        "colab": {
          "base_uri": "https://localhost:8080/"
        },
        "id": "xrCFJ_LVH1jW",
        "outputId": "f7bbc255-2d79-4943-f666-97f6efb2f965"
      },
      "execution_count": null,
      "outputs": [
        {
          "output_type": "stream",
          "name": "stdout",
          "text": [
            "Thu Dec  1 19:35:12 2022       \n",
            "+-----------------------------------------------------------------------------+\n",
            "| NVIDIA-SMI 460.32.03    Driver Version: 460.32.03    CUDA Version: 11.2     |\n",
            "|-------------------------------+----------------------+----------------------+\n",
            "| GPU  Name        Persistence-M| Bus-Id        Disp.A | Volatile Uncorr. ECC |\n",
            "| Fan  Temp  Perf  Pwr:Usage/Cap|         Memory-Usage | GPU-Util  Compute M. |\n",
            "|                               |                      |               MIG M. |\n",
            "|===============================+======================+======================|\n",
            "|   0  Tesla T4            Off  | 00000000:00:04.0 Off |                    0 |\n",
            "| N/A   42C    P0    26W /  70W |      0MiB / 15109MiB |      0%      Default |\n",
            "|                               |                      |                  N/A |\n",
            "+-------------------------------+----------------------+----------------------+\n",
            "                                                                               \n",
            "+-----------------------------------------------------------------------------+\n",
            "| Processes:                                                                  |\n",
            "|  GPU   GI   CI        PID   Type   Process name                  GPU Memory |\n",
            "|        ID   ID                                                   Usage      |\n",
            "|=============================================================================|\n",
            "|  No running processes found                                                 |\n",
            "+-----------------------------------------------------------------------------+\n"
          ]
        }
      ]
    },
    {
      "cell_type": "code",
      "execution_count": null,
      "metadata": {
        "colab": {
          "base_uri": "https://localhost:8080/"
        },
        "id": "dEc2F-CV49Or",
        "outputId": "a6f7e50d-ccee-4ef8-8315-2fd875a3829b"
      },
      "outputs": [
        {
          "output_type": "stream",
          "name": "stderr",
          "text": [
            "[nltk_data] Downloading package punkt to /root/nltk_data...\n",
            "[nltk_data]   Package punkt is already up-to-date!\n"
          ]
        }
      ],
      "source": [
        "from sklearn.cluster import KMeans\n",
        "import pandas as pd\n",
        "from sklearn.preprocessing import MinMaxScaler\n",
        "from matplotlib import pyplot as plt\n",
        "%matplotlib inline\n",
        "import array\n",
        "from nltk.tokenize import word_tokenize\n",
        "import nltk\n",
        "nltk.download('punkt')\n",
        "import re\n",
        "import numpy as np\n",
        "\n"
      ]
    },
    {
      "cell_type": "code",
      "execution_count": null,
      "metadata": {
        "id": "MWJGrIgW6cay"
      },
      "outputs": [],
      "source": [
        "df = pd.read_csv(\"/content/sample_data/BX-Users.csv\")\n"
      ]
    },
    {
      "cell_type": "markdown",
      "source": [
        "**Dataframe preprocessing**"
      ],
      "metadata": {
        "id": "QgOK0yj1s0gB"
      }
    },
    {
      "cell_type": "code",
      "execution_count": null,
      "metadata": {
        "id": "4bkAl-us64lG"
      },
      "outputs": [],
      "source": [
        "#remove the columns that has nan vals\n",
        "df = df.dropna()"
      ]
    },
    {
      "cell_type": "code",
      "execution_count": null,
      "metadata": {
        "id": "vet3tCcK7CAZ"
      },
      "outputs": [],
      "source": [
        "#remove the age less than 5 andd more than 100\n",
        "\n",
        "df = df.drop(df[df['age'] >= 105].index)\n",
        "df = df.drop(df[df['age'] <= 5].index)\n"
      ]
    },
    {
      "cell_type": "markdown",
      "source": [
        "**Locations preprocessing**"
      ],
      "metadata": {
        "id": "DSy6C_WBBrz8"
      }
    },
    {
      "cell_type": "code",
      "execution_count": null,
      "metadata": {
        "colab": {
          "base_uri": "https://localhost:8080/"
        },
        "id": "CcttdEjn7HP5",
        "outputId": "cd924728-0127-4885-a2ee-b4607a8fa824"
      },
      "outputs": [
        {
          "output_type": "stream",
          "name": "stdout",
          "text": [
            "[['stockton', 'california', 'usa'], ['porto', 'vngaia', 'portugal'], ['santamonica', 'california', 'usa'], ['melbourne', 'victoria', 'australia'], ['barcelona', 'barcelona', 'spain']]\n"
          ]
        },
        {
          "output_type": "execute_result",
          "data": {
            "text/plain": [
              "[' stockton california usa',\n",
              " ' porto vngaia portugal',\n",
              " ' santamonica california usa',\n",
              " ' melbourne victoria australia',\n",
              " ' barcelona barcelona spain']"
            ]
          },
          "metadata": {},
          "execution_count": 6
        }
      ],
      "source": [
        "locations_processed = []\n",
        "location_processed = []\n",
        "#for every location\n",
        "for l in df.location:\n",
        "  #split the location into words\n",
        "  l = l.split(\",\")\n",
        "  #for every word\n",
        "  for word in l:\n",
        "    #remove spaces\n",
        "    word_striped = word.strip()\n",
        "    #remove punktuation\n",
        "    word_without_panktuation = re.sub(r'[^\\w\\s]', '', word_striped)\n",
        "    #if the word has length less than 2 remove it\n",
        "    if(len(word_without_panktuation)<2):\n",
        "      word_with_more_than_one_char = ''\n",
        "    else:\n",
        "      word_with_more_than_one_char = word_without_panktuation\n",
        "    #if the word is na remove it\n",
        "    if(word_with_more_than_one_char != 'na' ):\n",
        "      #if the word is space remove it\n",
        "      if(word_with_more_than_one_char != '' ):\n",
        "        #i remove all the spaces betwwen words so the built of the vectorizer will be easier\n",
        "        location_processed.append(word_with_more_than_one_char.replace(\" \", \"\"))\n",
        "  #location_processed = ' '.join(s for s in location_processed)\n",
        "  locations_processed.append(location_processed)\n",
        "  location_processed= []\n",
        "#convert every location into text again to feed it into the vectorizer\n",
        "string_location = ''\n",
        "string_locations = []\n",
        "print(locations_processed[0:5])\n",
        "for location in locations_processed:\n",
        "  for word in location:\n",
        "    string_location = string_location + \" \" + word\n",
        "  string_locations.append(string_location)\n",
        "  string_location = ''\n",
        "string_locations[0:5]"
      ]
    },
    {
      "cell_type": "markdown",
      "source": [
        "The best way to convert the locations into vectors would be to retrieve the cordinates of each location from openstreetmap because this way the can be represented in the 2d space like \"[lat,lan]\" and take the max perfomance(speed cause the input vectors would be only 3d and accuracy) from the k-means.Although because this proccess needs a lot of running time cause the data are a lot we need to parallize the code which is not the goal of this project so i wont follow this way.The block of code is an example of how we can retrive the coordinates.\n"
      ],
      "metadata": {
        "id": "puW8O4wuq6F_"
      }
    },
    {
      "cell_type": "code",
      "source": [
        "\"\"\"\n",
        "import requests\n",
        "import urllib.parse \n",
        "locations_processed = []\n",
        "location_processed = []\n",
        "#for every location\n",
        "for l in df.location:\n",
        "  #split the location into words\n",
        "  l = l.split(\",\")\n",
        "  #for every word\n",
        "  for word in l:\n",
        "    #remove spaces\n",
        "    word_striped = word.strip()\n",
        "    #remove punktuation\n",
        "    word_without_panktuation = re.sub(r'[^\\w\\s]', '', word_striped)\n",
        "    #if the word has length less than 2 remove it\n",
        "    if(len(word_without_panktuation)<2):\n",
        "      word_with_more_than_one_char = ''\n",
        "    else:\n",
        "      word_with_more_than_one_char = word_without_panktuation\n",
        "    #if the word is na remove it\n",
        "    if(word_with_more_than_one_char != 'na' ):\n",
        "      #if the word is space remove it\n",
        "      if(word_with_more_than_one_char != '' ):\n",
        "        location_processed.append(word_with_more_than_one_char)\n",
        "  #location_processed = ' '.join(s for s in location_processed)\n",
        "  locations_processed.append(location_processed)\n",
        "  location_processed= []\n",
        "\n",
        "#print(locations_processed[0:5])\n",
        "#get the cordinates of each location using request from openstreetmap\n",
        "lat = []\n",
        "lon = []\n",
        "i = 0\n",
        "for location in locations_processed:\n",
        "  #The max len of a location is 3 althouth i put 4 to be sure\n",
        "  if len(location) == 1:\n",
        "    address = location[0]\n",
        "  elif len(location) == 2:\n",
        "    address = location[0] + ',' + location[1]\n",
        "  elif len(location) == 3:\n",
        "    address = location[0] + ',' + location[1] + ',' + location[2]\n",
        "  elif len(location) == 4:\n",
        "    address = location[0] + ',' + location[1] + location[2] + ',' + location[3]\n",
        "  url = 'https://nominatim.openstreetmap.org/search/' + urllib.parse.quote(address) +'?format=json'\n",
        "  response = requests.get(url).json()\n",
        "  try:\n",
        "    lat.append(float(response[0][\"lat\"]))\n",
        "    lon.append(float(response[0][\"lon\"]))\n",
        "  except:\n",
        "    lat.append(float(\"nan\"))\n",
        "    lon.append(float(\"nan\"))\n",
        "  i = i + 1\n",
        "  print(i)\n",
        "\n",
        "df['lat'] = lat\n",
        "df['lon'] = lon\n",
        "df = df.dropna()\n",
        "df = df.drop(columns=['location'])\n",
        "\n",
        "\"\"\""
      ],
      "metadata": {
        "id": "tIf70-Sqq7fv"
      },
      "execution_count": null,
      "outputs": []
    },
    {
      "cell_type": "markdown",
      "source": [
        "**Locations vectorization**"
      ],
      "metadata": {
        "id": "c9ruCbTMslrv"
      }
    },
    {
      "cell_type": "markdown",
      "source": [
        "To convert the locations into vectors i ll use sklearn Count Vectorizer that gives us a sparse vector with the size of the vocablary of all the locatios with 1s only in the words  that the location has"
      ],
      "metadata": {
        "id": "Nka60DGVrEV2"
      }
    },
    {
      "cell_type": "code",
      "execution_count": null,
      "metadata": {
        "id": "lmoe7YkGGNkb"
      },
      "outputs": [],
      "source": [
        "from pandas.util.version import Version\n",
        "from sklearn.feature_extraction.text import CountVectorizer\n",
        "vectorizer = CountVectorizer()\n",
        "X = vectorizer.fit_transform(string_locations)\n",
        "location_vectors = X.toarray()"
      ]
    },
    {
      "cell_type": "code",
      "source": [
        "location_vectors.shape"
      ],
      "metadata": {
        "colab": {
          "base_uri": "https://localhost:8080/"
        },
        "id": "UQti40TzIl9P",
        "outputId": "21e65fd2-25a6-48d2-90e6-d66e1a822649"
      },
      "execution_count": null,
      "outputs": [
        {
          "output_type": "execute_result",
          "data": {
            "text/plain": [
              "(122160, 23239)"
            ]
          },
          "metadata": {},
          "execution_count": 82
        }
      ]
    },
    {
      "cell_type": "markdown",
      "source": [
        "**Dimensions reduction**"
      ],
      "metadata": {
        "id": "rt5zeV9TsS6x"
      }
    },
    {
      "cell_type": "markdown",
      "source": [
        "I want the kmeans algorithm to give the same weight to age and location so i am reducing  the dimensions of the locartion vectors into 1d so the will be the same dimension as the age.For this i am using pca.\n",
        "\n"
      ],
      "metadata": {
        "id": "X-BfxLYnJMoj"
      }
    },
    {
      "cell_type": "code",
      "source": [
        "from sklearn.decomposition import PCA\n",
        "pca = PCA(n_components=1)\n",
        "pcs_locations = pca.fit_transform(location_vectors)\n",
        "pcs_locations.shape"
      ],
      "metadata": {
        "colab": {
          "base_uri": "https://localhost:8080/"
        },
        "id": "qzUEjPFAJKB3",
        "outputId": "3b30d685-74d9-4b9d-c674-9bf393ede727"
      },
      "execution_count": null,
      "outputs": [
        {
          "output_type": "execute_result",
          "data": {
            "text/plain": [
              "(122160, 1)"
            ]
          },
          "metadata": {},
          "execution_count": 83
        }
      ]
    },
    {
      "cell_type": "markdown",
      "source": [
        "**Dataframe after the vectorization of the locations**"
      ],
      "metadata": {
        "id": "620RnVymsaca"
      }
    },
    {
      "cell_type": "code",
      "source": [
        "#New dataframe after locations processing and vectoring\n",
        "df[\"Vectorized Locartion\"] = pcs_locations\n",
        "df = df.dropna()\n",
        "df = df.drop(columns=['location'])\n",
        "print(df)\n",
        "# input matrix for segmentation\n",
        "x = df[['age','Vectorized Locartion']].to_numpy()"
      ],
      "metadata": {
        "colab": {
          "base_uri": "https://localhost:8080/"
        },
        "id": "6CVkzbRUKvG5",
        "outputId": "8b19ee8d-00a9-4bf3-a507-420a24bcb404"
      },
      "execution_count": null,
      "outputs": [
        {
          "output_type": "stream",
          "name": "stdout",
          "text": [
            "           uid   age  Vectorized Locartion\n",
            "1            2  18.0              0.664526\n",
            "3            4  17.0             -0.409369\n",
            "5            6  61.0              0.664624\n",
            "7           11  14.0             -0.516064\n",
            "9           13  26.0             -0.630132\n",
            "...        ...   ...                   ...\n",
            "206433  278840  45.0              0.664169\n",
            "206439  278849  23.0             -0.558580\n",
            "206441  278852  32.0             -0.497687\n",
            "206442  278853  17.0             -0.546688\n",
            "206443  278855  50.0             -0.505635\n",
            "\n",
            "[122160 rows x 3 columns]\n"
          ]
        }
      ]
    },
    {
      "cell_type": "markdown",
      "source": [
        "**Data normalization**"
      ],
      "metadata": {
        "id": "kSM8_GdlsLqW"
      }
    },
    {
      "cell_type": "code",
      "source": [
        "#normalization\n",
        "from sklearn import preprocessing\n",
        "max_abs_scaler = preprocessing.MaxAbsScaler()\n",
        "data_maxabs = max_abs_scaler.fit_transform(x)\n",
        "data_maxabs"
      ],
      "metadata": {
        "colab": {
          "base_uri": "https://localhost:8080/"
        },
        "id": "m_-Ub3AqL68o",
        "outputId": "f8741610-7d16-4bc8-d9c7-1c63659ff558"
      },
      "execution_count": null,
      "outputs": [
        {
          "output_type": "execute_result",
          "data": {
            "text/plain": [
              "array([[ 0.17307692,  0.41975422],\n",
              "       [ 0.16346154, -0.25858186],\n",
              "       [ 0.58653846,  0.41981646],\n",
              "       ...,\n",
              "       [ 0.30769231, -0.31436866],\n",
              "       [ 0.16346154, -0.3453205 ],\n",
              "       [ 0.48076923, -0.31938931]])"
            ]
          },
          "metadata": {},
          "execution_count": 86
        }
      ]
    },
    {
      "cell_type": "markdown",
      "source": [
        "**Kmeans**"
      ],
      "metadata": {
        "id": "N5dn4lDiMPOs"
      }
    },
    {
      "cell_type": "code",
      "source": [
        "from sklearn.cluster import KMeans\n",
        "import matplotlib.pyplot as plt\n",
        "import seaborn as sns\n",
        "from mpl_toolkits.mplot3d import Axes3D\n",
        "import plotly.graph_objs as go\n",
        "from plotly import tools\n",
        "from plotly.subplots import make_subplots\n",
        "import plotly.offline as py"
      ],
      "metadata": {
        "id": "DItGBoMaMDUB"
      },
      "execution_count": null,
      "outputs": []
    },
    {
      "cell_type": "markdown",
      "source": [
        "Elbow method"
      ],
      "metadata": {
        "id": "0ZDXHmwAOpgp"
      }
    },
    {
      "cell_type": "code",
      "source": [
        "#elbow method\n",
        "#find the optimal number of clusters using elbow method  -- >This is for 2 features = ['location','age']\n",
        "WCSS = []\n",
        "for i in range(1,11):\n",
        "    model = KMeans(n_clusters = i,init = 'k-means++')\n",
        "    model.fit(data_maxabs)\n",
        "    WCSS.append(model.inertia_)\n",
        "fig = plt.figure(figsize = (7,7))\n",
        "plt.plot(range(1,11),WCSS, linewidth=4, markersize=12,marker='o',color = 'red')\n",
        "plt.xticks(np.arange(11))\n",
        "plt.xlabel(\"Number of clusters\")\n",
        "plt.ylabel(\"WCSS\")\n",
        "plt.show()"
      ],
      "metadata": {
        "colab": {
          "base_uri": "https://localhost:8080/",
          "height": 442
        },
        "id": "ZTtwpH6bMHxz",
        "outputId": "9a99020c-4d93-4751-fb99-fa8a4f9939da"
      },
      "execution_count": null,
      "outputs": [
        {
          "output_type": "display_data",
          "data": {
            "text/plain": [
              "<Figure size 504x504 with 1 Axes>"
            ],
            "image/png": "[encoded data removed]"
          },
          "metadata": {
            "needs_background": "light"
          }
        }
      ]
    },
    {
      "cell_type": "markdown",
      "source": [
        "I ll ignore what the elbow method returns and i ll use 25 clusters because i want to divide the age groups and the locations into 5 each so 5*%=25"
      ],
      "metadata": {
        "id": "Bea2wygBOvEP"
      }
    },
    {
      "cell_type": "code",
      "source": [
        "model = KMeans(n_clusters = 25, init = \"k-means++\", max_iter = 500, n_init = 10, random_state = 0)\n",
        "y_clusters = model.fit_predict(data_maxabs)"
      ],
      "metadata": {
        "id": "Yoy1JDx1NNpF"
      },
      "execution_count": null,
      "outputs": []
    },
    {
      "cell_type": "markdown",
      "source": [
        "Visualization"
      ],
      "metadata": {
        "id": "G85AOlMKOysl"
      }
    },
    {
      "cell_type": "code",
      "source": [
        "plt.figure(figsize = (20,10))\n",
        "plt.scatter(x[y_clusters == 0,0],x[y_clusters == 0,1],s = 50, c = 'green')\n",
        "plt.scatter(x[y_clusters == 1,0],x[y_clusters == 1,1],s = 50, c = 'blue')\n",
        "plt.scatter(x[y_clusters == 2,0],x[y_clusters == 2,1],s = 50, c = 'red')\n",
        "plt.scatter(x[y_clusters == 3,0],x[y_clusters == 3,1],s = 50, c = 'blue')\n",
        "plt.scatter(x[y_clusters == 4,0],x[y_clusters == 4,1],s = 50, c = 'orange')\n",
        "plt.scatter(x[y_clusters == 5,0],x[y_clusters == 5,1],s = 50, c = 'yellow')\n",
        "plt.scatter(x[y_clusters == 6,0],x[y_clusters == 6,1],s = 50, c = 'purple')\n",
        "plt.scatter(x[y_clusters == 7,0],x[y_clusters == 7,1],s = 50, c = 'pink')\n",
        "plt.scatter(x[y_clusters == 8,0],x[y_clusters == 8,1],s = 50, c = 'brown')\n",
        "plt.scatter(x[y_clusters == 9,0],x[y_clusters == 9,1],s = 50, c = 'cyan')\n",
        "plt.scatter(x[y_clusters == 10,0],x[y_clusters == 10,1],s = 50, c = 'olive')\n",
        "plt.scatter(x[y_clusters == 11,0],x[y_clusters == 11,1],s = 50, c = 'lightgreen')\n",
        "plt.scatter(x[y_clusters == 12,0],x[y_clusters == 12,1],s = 50, c = 'lightblue')\n",
        "plt.scatter(x[y_clusters == 13,0],x[y_clusters == 13,1],s = 50, c = 'firebrick')\n",
        "plt.scatter(x[y_clusters == 14,0],x[y_clusters == 14,1],s = 50, c = 'red')\n",
        "plt.scatter(x[y_clusters == 15,0],x[y_clusters == 15,1],s = 50, c = 'blue')\n",
        "plt.scatter(x[y_clusters == 16,0],x[y_clusters == 16,1],s = 50, c = 'orange')\n",
        "plt.scatter(x[y_clusters == 17,0],x[y_clusters == 17,1],s = 50, c = 'yellow')\n",
        "plt.scatter(x[y_clusters == 18,0],x[y_clusters == 18,1],s = 50, c = 'purple')\n",
        "plt.scatter(x[y_clusters == 19,0],x[y_clusters == 19,1],s = 50, c = 'pink')\n",
        "plt.scatter(x[y_clusters == 20,0],x[y_clusters == 20,1],s = 50, c = 'brown')\n",
        "plt.scatter(x[y_clusters == 21,0],x[y_clusters == 21,1],s = 50, c = 'cyan')\n",
        "plt.scatter(x[y_clusters == 22,0],x[y_clusters == 22,1],s = 50, c = 'olive')\n",
        "plt.scatter(x[y_clusters == 23,0],x[y_clusters == 23,1],s = 50, c = 'blue')\n",
        "plt.scatter(x[y_clusters == 24,0],x[y_clusters == 24,1],s = 50, c = 'brown')\n",
        "plt.scatter(model.cluster_centers_[:,0],model.cluster_centers_[:,1], s = 100, c = \"black\", label = \"centroids\")\n",
        "plt.xlabel(\"Age\")\n",
        "plt.ylabel(\"Location\")\n",
        "plt.legend()\n",
        "plt.show()"
      ],
      "metadata": {
        "colab": {
          "base_uri": "https://localhost:8080/",
          "height": 529
        },
        "id": "DOd7lZMXOnTu",
        "outputId": "7b82febd-9157-43ea-add9-a3f423e76972"
      },
      "execution_count": null,
      "outputs": [
        {
          "output_type": "display_data",
          "data": {
            "text/plain": [
              "<Figure size 1440x720 with 1 Axes>"
            ],
            "image/png": "[encoded data removed]"
          },
          "metadata": {
            "needs_background": "light"
          }
        }
      ]
    },
    {
      "cell_type": "markdown",
      "source": [
        "**Append the cluster column into users inforamtion**"
      ],
      "metadata": {
        "id": "AvTv5r1OtmPf"
      }
    },
    {
      "cell_type": "code",
      "execution_count": null,
      "metadata": {
        "colab": {
          "base_uri": "https://localhost:8080/",
          "height": 206
        },
        "id": "Shf57gzesEdU",
        "outputId": "1e2a8dbf-2808-410c-8b85-88cbe2381e4c"
      },
      "outputs": [
        {
          "output_type": "execute_result",
          "data": {
            "text/plain": [
              "   uid                        location   age  cluster\n",
              "1    2       stockton, california, usa  18.0        3\n",
              "3    4       porto, v.n.gaia, portugal  17.0        9\n",
              "5    6   santa monica, california, usa  61.0        6\n",
              "7   11  melbourne, victoria, australia  14.0       23\n",
              "9   13     barcelona, barcelona, spain  26.0       22"
            ],
            "text/html": [
              "\n",
              "  <div id=\"df-e4322e5f-df94-4d8b-a9ad-660bb4e10ee4\">\n",
              "    <div class=\"colab-df-container\">\n",
              "      <div>\n",
              "<style scoped>\n",
              "    .dataframe tbody tr th:only-of-type {\n",
              "        vertical-align: middle;\n",
              "    }\n",
              "\n",
              "    .dataframe tbody tr th {\n",
              "        vertical-align: top;\n",
              "    }\n",
              "\n",
              "    .dataframe thead th {\n",
              "        text-align: right;\n",
              "    }\n",
              "</style>\n",
              "<table border=\"1\" class=\"dataframe\">\n",
              "  <thead>\n",
              "    <tr style=\"text-align: right;\">\n",
              "      <th></th>\n",
              "      <th>uid</th>\n",
              "      <th>location</th>\n",
              "      <th>age</th>\n",
              "      <th>cluster</th>\n",
              "    </tr>\n",
              "  </thead>\n",
              "  <tbody>\n",
              "    <tr>\n",
              "      <th>1</th>\n",
              "      <td>2</td>\n",
              "      <td>stockton, california, usa</td>\n",
              "      <td>18.0</td>\n",
              "      <td>3</td>\n",
              "    </tr>\n",
              "    <tr>\n",
              "      <th>3</th>\n",
              "      <td>4</td>\n",
              "      <td>porto, v.n.gaia, portugal</td>\n",
              "      <td>17.0</td>\n",
              "      <td>9</td>\n",
              "    </tr>\n",
              "    <tr>\n",
              "      <th>5</th>\n",
              "      <td>6</td>\n",
              "      <td>santa monica, california, usa</td>\n",
              "      <td>61.0</td>\n",
              "      <td>6</td>\n",
              "    </tr>\n",
              "    <tr>\n",
              "      <th>7</th>\n",
              "      <td>11</td>\n",
              "      <td>melbourne, victoria, australia</td>\n",
              "      <td>14.0</td>\n",
              "      <td>23</td>\n",
              "    </tr>\n",
              "    <tr>\n",
              "      <th>9</th>\n",
              "      <td>13</td>\n",
              "      <td>barcelona, barcelona, spain</td>\n",
              "      <td>26.0</td>\n",
              "      <td>22</td>\n",
              "    </tr>\n",
              "  </tbody>\n",
              "</table>\n",
              "</div>\n",
              "      <button class=\"colab-df-convert\" onclick=\"convertToInteractive('df-e4322e5f-df94-4d8b-a9ad-660bb4e10ee4')\"\n",
              "              title=\"Convert this dataframe to an interactive table.\"\n",
              "              style=\"display:none;\">\n",
              "        \n",
              "  <svg xmlns=\"http://www.w3.org/2000/svg\" height=\"24px\"viewBox=\"0 0 24 24\"\n",
              "       width=\"24px\">\n",
              "    <path d=\"M0 0h24v24H0V0z\" fill=\"none\"/>\n",
              "    <path d=\"M18.56 5.44l.94 2.06.94-2.06 2.06-.94-2.06-.94-.94-2.06-.94 2.06-2.06.94zm-11 1L8.5 8.5l.94-2.06 2.06-.94-2.06-.94L8.5 2.5l-.94 2.06-2.06.94zm10 10l.94 2.06.94-2.06 2.06-.94-2.06-.94-.94-2.06-.94 2.06-2.06.94z\"/><path d=\"M17.41 7.96l-1.37-1.37c-.4-.4-.92-.59-1.43-.59-.52 0-1.04.2-1.43.59L10.3 9.45l-7.72 7.72c-.78.78-.78 2.05 0 2.83L4 21.41c.39.39.9.59 1.41.59.51 0 1.02-.2 1.41-.59l7.78-7.78 2.81-2.81c.8-.78.8-2.07 0-2.86zM5.41 20L4 18.59l7.72-7.72 1.47 1.35L5.41 20z\"/>\n",
              "  </svg>\n",
              "      </button>\n",
              "      \n",
              "  <style>\n",
              "    .colab-df-container {\n",
              "      display:flex;\n",
              "      flex-wrap:wrap;\n",
              "      gap: 12px;\n",
              "    }\n",
              "\n",
              "    .colab-df-convert {\n",
              "      background-color: #E8F0FE;\n",
              "      border: none;\n",
              "      border-radius: 50%;\n",
              "      cursor: pointer;\n",
              "      display: none;\n",
              "      fill: #1967D2;\n",
              "      height: 32px;\n",
              "      padding: 0 0 0 0;\n",
              "      width: 32px;\n",
              "    }\n",
              "\n",
              "    .colab-df-convert:hover {\n",
              "      background-color: #E2EBFA;\n",
              "      box-shadow: 0px 1px 2px rgba(60, 64, 67, 0.3), 0px 1px 3px 1px rgba(60, 64, 67, 0.15);\n",
              "      fill: #174EA6;\n",
              "    }\n",
              "\n",
              "    [theme=dark] .colab-df-convert {\n",
              "      background-color: #3B4455;\n",
              "      fill: #D2E3FC;\n",
              "    }\n",
              "\n",
              "    [theme=dark] .colab-df-convert:hover {\n",
              "      background-color: #434B5C;\n",
              "      box-shadow: 0px 1px 3px 1px rgba(0, 0, 0, 0.15);\n",
              "      filter: drop-shadow(0px 1px 2px rgba(0, 0, 0, 0.3));\n",
              "      fill: #FFFFFF;\n",
              "    }\n",
              "  </style>\n",
              "\n",
              "      <script>\n",
              "        const buttonEl =\n",
              "          document.querySelector('#df-e4322e5f-df94-4d8b-a9ad-660bb4e10ee4 button.colab-df-convert');\n",
              "        buttonEl.style.display =\n",
              "          google.colab.kernel.accessAllowed ? 'block' : 'none';\n",
              "\n",
              "        async function convertToInteractive(key) {\n",
              "          const element = document.querySelector('#df-e4322e5f-df94-4d8b-a9ad-660bb4e10ee4');\n",
              "          const dataTable =\n",
              "            await google.colab.kernel.invokeFunction('convertToInteractive',\n",
              "                                                     [key], {});\n",
              "          if (!dataTable) return;\n",
              "\n",
              "          const docLinkHtml = 'Like what you see? Visit the ' +\n",
              "            '<a target=\"_blank\" href=https://colab.research.google.com/notebooks/data_table.ipynb>data table notebook</a>'\n",
              "            + ' to learn more about interactive tables.';\n",
              "          element.innerHTML = '';\n",
              "          dataTable['output_type'] = 'display_data';\n",
              "          await google.colab.output.renderOutput(dataTable, element);\n",
              "          const docLink = document.createElement('div');\n",
              "          docLink.innerHTML = docLinkHtml;\n",
              "          element.appendChild(docLink);\n",
              "        }\n",
              "      </script>\n",
              "    </div>\n",
              "  </div>\n",
              "  "
            ]
          },
          "metadata": {},
          "execution_count": 110
        }
      ],
      "source": [
        "######add the cluster attribute to the initial dataframe################\n",
        "df_users = pd.read_csv(\"/content/sample_data/BX-Users.csv\")\n",
        "#remove the columns that has nan vals\n",
        "#and\n",
        "#remove the age less than 5 andd more than 100\n",
        "df_users = df.drop(df[df['age'] >= 105].index)\n",
        "df_users = df.drop(df[df['age'] <= 5].index)\n",
        "df_users = df_users.dropna()\n",
        "\n",
        "df_users['cluster'] = y_clusters\n",
        "df_users.head()"
      ]
    },
    {
      "cell_type": "markdown",
      "source": [
        "**A function that gets a users id and a books id checks if the user has rated this book and if not it returns the avarage rating that other users that are in the same cluster has puted to this book**"
      ],
      "metadata": {
        "id": "dt1RQ7lCuAbb"
      }
    },
    {
      "cell_type": "code",
      "execution_count": null,
      "metadata": {
        "id": "tCKATGc4-VS4",
        "colab": {
          "base_uri": "https://localhost:8080/"
        },
        "outputId": "0e587ff2-0bdd-4e43-e261-82139051387d"
      },
      "outputs": [
        {
          "output_type": "stream",
          "name": "stderr",
          "text": [
            "/usr/local/lib/python3.7/dist-packages/IPython/core/interactiveshell.py:3326: FutureWarning:\n",
            "\n",
            "The error_bad_lines argument has been deprecated and will be removed in a future version.\n",
            "\n",
            "\n",
            "\n"
          ]
        }
      ],
      "source": [
        "df_ratings = pd.read_csv(\"/content/sample_data/BX-Book-Ratings.csv\")\n",
        "df_books = pd.read_csv(\"/content/sample_data/BX-Books.csv\",error_bad_lines=False, engine=\"python\")\n",
        "df_ratings = df_ratings.dropna()\n",
        "df_books = df_books.dropna()\n",
        "df_missing_ratings = pd.DataFrame(columns=['uid','isbn','rating'])\n",
        "def avg_rating(uid,isbn):\n",
        "  #get the cluster that contains the user\n",
        "  cluster = df_users['cluster'].loc[df_users['uid'] == uid].values[0]\n",
        "  #get all the users that are contained in this cluster\n",
        "  users = df_users.loc[df_users['cluster'] == cluster, ['uid']]\n",
        "  rating = 0\n",
        "  counter = 0\n",
        "  for user in users['uid']:\n",
        "     if ((df_ratings['isbn'] == isbn) & (df_ratings['uid'] == user)).any():\n",
        "        counter = counter + 1\n",
        "        rating = rating + df_ratings.loc[(df_ratings['isbn'] == isbn) & (df_ratings['uid'] == user), ['rating']].values[0]\n",
        "  try: \n",
        "    rating = rating/counter\n",
        "  except ZeroDivisionError:\n",
        "    pass\n",
        "  counter = 0\n",
        "  return rating"
      ]
    },
    {
      "cell_type": "markdown",
      "source": [
        "**Fill the missing ratings**"
      ],
      "metadata": {
        "id": "wZHsSYLEvUgq"
      }
    },
    {
      "cell_type": "code",
      "execution_count": null,
      "metadata": {
        "id": "lthwuprqtLeR"
      },
      "outputs": [],
      "source": [
        " #for every user\n",
        "for user in df_users['uid']:\n",
        "  #for every book\n",
        "  for book in df_books['isbn']:\n",
        "    #if there isnt any rating \n",
        "    if ((df_ratings['uid'] == user) & (df_ratings['isbn'] == book)).any() == False:\n",
        "      df_missing_ratings.append({'uid':user,\"isbn\":book,\"rating\":avg_rating(user,book)},ignore_index=True)\n"
      ]
    },
    {
      "cell_type": "markdown",
      "source": [
        "**Built of the csv for extraction**"
      ],
      "metadata": {
        "id": "UI56fNUHvhr1"
      }
    },
    {
      "cell_type": "code",
      "source": [
        "#to the ratings add cluster column\n",
        "df_ratings2 = pd.merge(df_users, df_ratings, on=\"uid\")\n",
        "#to the ratings add informations about the book from the bx-books csv\n",
        "df_ratings3 = pd.merge(df_ratings2,df_books,on='isbn')\n",
        "print(df_ratings3)\n"
      ],
      "metadata": {
        "colab": {
          "base_uri": "https://localhost:8080/"
        },
        "id": "gUhPTD1WqZaw",
        "outputId": "00852449-d953-40da-e7b7-e30ff631032c"
      },
      "execution_count": null,
      "outputs": [
        {
          "output_type": "stream",
          "name": "stdout",
          "text": [
            "          uid                         location   age  cluster        isbn  \\\n",
            "0           2        stockton, california, usa  18.0        3  0195153448   \n",
            "1          19                        weston, ,  14.0        9  0375759778   \n",
            "2       38502          new york, new york, usa  34.0       10  0375759778   \n",
            "3      173180           corvallis, oregon, usa  30.0       12  0375759778   \n",
            "4          20     langhorne, pennsylvania, usa  19.0        3  0425163091   \n",
            "...       ...                              ...   ...      ...         ...   \n",
            "22465  278818     allentown, pennsylvania, usa  15.0        3  0064405788   \n",
            "22466  278820  ninety six, south carolina, usa  59.0       11  0399135790   \n",
            "22467  278849      georgetown, ontario, canada  23.0        5  0445210214   \n",
            "22468  278849      georgetown, ontario, canada  23.0        5  0771012837   \n",
            "22469  278849      georgetown, ontario, canada  23.0        5  0920656307   \n",
            "\n",
            "       rating                                     book_title  \\\n",
            "0           0                            Classical Mythology   \n",
            "1           7                               Prague : A Novel   \n",
            "2           8                               Prague : A Novel   \n",
            "3           0                               Prague : A Novel   \n",
            "4           0                                Chocolate Jesus   \n",
            "...       ...                                            ...   \n",
            "22465      10                       Wringer (Trophy Newbery)   \n",
            "22466       3                                      Cold Fire   \n",
            "22467       0                Mythology 101 (Questar Fantasy)   \n",
            "22468       0  Klondike: The Last Great Gold Rush, 1896-1899   \n",
            "22469       0                        Secret of Willow Castle   \n",
            "\n",
            "              book_author  year_of_publication                      publisher  \\\n",
            "0      Mark P. O. Morford                 2002        Oxford University Press   \n",
            "1         ARTHUR PHILLIPS                 2003  Random House Trade Paperbacks   \n",
            "2         ARTHUR PHILLIPS                 2003  Random House Trade Paperbacks   \n",
            "3         ARTHUR PHILLIPS                 2003  Random House Trade Paperbacks   \n",
            "4       Stephan Jaramillo                 1998       Berkley Publishing Group   \n",
            "...                   ...                  ...                            ...   \n",
            "22465      Jerry Spinelli                 1998                   HarperTrophy   \n",
            "22466      Dean R. Koontz                 1991               Putnam Pub Group   \n",
            "22467       Jody Lynn Nye                 1993                   Warner Books   \n",
            "22468       Pierre Berton                 1993           McClelland & Stewart   \n",
            "22469             Ly Cook                 1911              Firefly Books Ltd   \n",
            "\n",
            "                                                 summary              category  \n",
            "0      Provides an introduction to classical myths pl...    ['social science']  \n",
            "1      Five American expatriates living in Budapest i...           ['fiction']  \n",
            "2      Five American expatriates living in Budapest i...           ['fiction']  \n",
            "3      Five American expatriates living in Budapest i...           ['fiction']  \n",
            "4      When Sydney Corbett comes up with the idea of ...           ['fiction']  \n",
            "...                                                  ...                   ...  \n",
            "22465  For as long as he can remember, he&#39;s dread...  ['juvenile fiction']  \n",
            "22466  Reporter Holly Thorne investigates the case of...           ['fiction']  \n",
            "22467  Keith Doyle is determined in his campaign to t...           ['fiction']  \n",
            "22468  The Klondike stampede was a wild interlude in ...           ['history']  \n",
            "22469  Canadian story early 19th century Orphaned ser...            ['canada']  \n",
            "\n",
            "[22470 rows x 12 columns]\n"
          ]
        }
      ]
    },
    {
      "cell_type": "markdown",
      "source": [
        "**Extract csv into the drive**"
      ],
      "metadata": {
        "id": "ChXYzFIjvlg2"
      }
    },
    {
      "cell_type": "code",
      "source": [
        "from google.colab import drive\n",
        "drive.mount('/drive')\n",
        "df_ratings3.to_csv('/drive/My Drive/Colab Notebooks/info_retrival/rating_with_clusters2.csv')\n",
        "\n"
      ],
      "metadata": {
        "id": "X3nY02sBVHIB",
        "colab": {
          "base_uri": "https://localhost:8080/"
        },
        "outputId": "ce9f21c9-34da-44a4-a0de-1ddca5569cf3"
      },
      "execution_count": null,
      "outputs": [
        {
          "output_type": "stream",
          "name": "stdout",
          "text": [
            "Mounted at /drive\n"
          ]
        }
      ]
    }
  ],
  "metadata": {
    "colab": {
      "provenance": [],
      "authorship_tag": "ABX9TyMju4/WE8rMYkjnEIsE0Le5",
      "include_colab_link": true
    },
    "kernelspec": {
      "display_name": "Python 3",
      "name": "python3"
    },
    "language_info": {
      "name": "python"
    },
    "gpuClass": "premium",
    "accelerator": "GPU"
  },
  "nbformat": 4,
  "nbformat_minor": 0
}